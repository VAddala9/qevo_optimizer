{
 "cells": [
  {
   "cell_type": "code",
   "execution_count": 9,
   "id": "7bde24bd",
   "metadata": {},
   "outputs": [],
   "source": [
    "from qevo_ntom import *\n",
    "import seaborn as sns"
   ]
  },
  {
   "cell_type": "code",
   "execution_count": 2,
   "id": "dd7fb9e2",
   "metadata": {},
   "outputs": [],
   "source": [
    "conf = default_config.copy()"
   ]
  },
  {
   "cell_type": "code",
   "execution_count": 3,
   "id": "e1f7593c",
   "metadata": {},
   "outputs": [],
   "source": [
    "conf['MAX_GEN'] = 50\n",
    "conf['N'] = 3 # number of registers\n",
    "conf['M'] = 2 # number of purified pairs"
   ]
  },
  {
   "cell_type": "code",
   "execution_count": 5,
   "id": "cffd60bc",
   "metadata": {},
   "outputs": [
    {
     "name": "stdout",
     "output_type": "stream",
     "text": [
      "Initializing 2000 individuals. Keeping only 200 of them.\n"
     ]
    }
   ],
   "source": [
    "p = Population(**conf)"
   ]
  },
  {
   "cell_type": "code",
   "execution_count": 6,
   "id": "1867ad10",
   "metadata": {},
   "outputs": [
    {
     "name": "stdout",
     "output_type": "stream",
     "text": [
      "Generating 10 children per parent pair (20 pairs).\n",
      "Generating 1 mutants per individual per mutation type (weighted by type).\n",
      "Evaluating fitness and culling.\n",
      "Generating 10 children per parent pair (20 pairs).\n",
      "Generating 1 mutants per individual per mutation type (weighted by type).\n",
      "Evaluating fitness and culling.\n",
      "Generating 10 children per parent pair (20 pairs).\n",
      "Generating 1 mutants per individual per mutation type (weighted by type).\n",
      "Evaluating fitness and culling.\n",
      "Generating 10 children per parent pair (20 pairs).\n",
      "Generating 1 mutants per individual per mutation type (weighted by type).\n",
      "Evaluating fitness and culling.\n",
      "Generating 10 children per parent pair (20 pairs).\n",
      "Generating 1 mutants per individual per mutation type (weighted by type).\n",
      "Evaluating fitness and culling.\n",
      "Generating 10 children per parent pair (20 pairs).\n",
      "Generating 1 mutants per individual per mutation type (weighted by type).\n",
      "Evaluating fitness and culling.\n",
      "Generating 10 children per parent pair (20 pairs).\n",
      "Generating 1 mutants per individual per mutation type (weighted by type).\n",
      "Evaluating fitness and culling.\n",
      "Generating 10 children per parent pair (20 pairs).\n",
      "Generating 1 mutants per individual per mutation type (weighted by type).\n",
      "Evaluating fitness and culling.\n",
      "Generating 10 children per parent pair (20 pairs).\n",
      "Generating 1 mutants per individual per mutation type (weighted by type).\n",
      "Evaluating fitness and culling.\n",
      "Generating 10 children per parent pair (20 pairs).\n",
      "Generating 1 mutants per individual per mutation type (weighted by type).\n",
      "Evaluating fitness and culling.\n",
      "Generating 10 children per parent pair (20 pairs).\n",
      "Generating 1 mutants per individual per mutation type (weighted by type).\n",
      "Evaluating fitness and culling.\n",
      "Generating 10 children per parent pair (20 pairs).\n",
      "Generating 1 mutants per individual per mutation type (weighted by type).\n",
      "Evaluating fitness and culling.\n",
      "Generating 10 children per parent pair (20 pairs).\n",
      "Generating 1 mutants per individual per mutation type (weighted by type).\n",
      "Evaluating fitness and culling.\n",
      "Generating 10 children per parent pair (20 pairs).\n",
      "Generating 1 mutants per individual per mutation type (weighted by type).\n",
      "Evaluating fitness and culling.\n",
      "Generating 10 children per parent pair (20 pairs).\n",
      "Generating 1 mutants per individual per mutation type (weighted by type).\n",
      "Evaluating fitness and culling.\n",
      "Generating 10 children per parent pair (20 pairs).\n",
      "Generating 1 mutants per individual per mutation type (weighted by type).\n",
      "Evaluating fitness and culling.\n",
      "Generating 10 children per parent pair (20 pairs).\n",
      "Generating 1 mutants per individual per mutation type (weighted by type).\n",
      "Evaluating fitness and culling.\n",
      "Generating 10 children per parent pair (20 pairs).\n",
      "Generating 1 mutants per individual per mutation type (weighted by type).\n",
      "Evaluating fitness and culling.\n",
      "Generating 10 children per parent pair (20 pairs).\n",
      "Generating 1 mutants per individual per mutation type (weighted by type).\n",
      "Evaluating fitness and culling.\n",
      "Generating 10 children per parent pair (20 pairs).\n",
      "Generating 1 mutants per individual per mutation type (weighted by type).\n",
      "Evaluating fitness and culling.\n",
      "Generating 10 children per parent pair (20 pairs).\n",
      "Generating 1 mutants per individual per mutation type (weighted by type).\n",
      "Evaluating fitness and culling.\n",
      "Generating 10 children per parent pair (20 pairs).\n",
      "Generating 1 mutants per individual per mutation type (weighted by type).\n",
      "Evaluating fitness and culling.\n",
      "Generating 10 children per parent pair (20 pairs).\n",
      "Generating 1 mutants per individual per mutation type (weighted by type).\n",
      "Evaluating fitness and culling.\n",
      "Generating 10 children per parent pair (20 pairs).\n",
      "Generating 1 mutants per individual per mutation type (weighted by type).\n",
      "Evaluating fitness and culling.\n",
      "Generating 10 children per parent pair (20 pairs).\n",
      "Generating 1 mutants per individual per mutation type (weighted by type).\n",
      "Evaluating fitness and culling.\n",
      "Generating 10 children per parent pair (20 pairs).\n",
      "Generating 1 mutants per individual per mutation type (weighted by type).\n",
      "Evaluating fitness and culling.\n",
      "Generating 10 children per parent pair (20 pairs).\n",
      "Generating 1 mutants per individual per mutation type (weighted by type).\n",
      "Evaluating fitness and culling.\n",
      "Generating 10 children per parent pair (20 pairs).\n",
      "Generating 1 mutants per individual per mutation type (weighted by type).\n",
      "Evaluating fitness and culling.\n",
      "Generating 10 children per parent pair (20 pairs).\n",
      "Generating 1 mutants per individual per mutation type (weighted by type).\n",
      "Evaluating fitness and culling.\n",
      "Generating 10 children per parent pair (20 pairs).\n",
      "Generating 1 mutants per individual per mutation type (weighted by type).\n",
      "Evaluating fitness and culling.\n",
      "Generating 10 children per parent pair (20 pairs).\n",
      "Generating 1 mutants per individual per mutation type (weighted by type).\n",
      "Evaluating fitness and culling.\n",
      "Generating 10 children per parent pair (20 pairs).\n",
      "Generating 1 mutants per individual per mutation type (weighted by type).\n",
      "Evaluating fitness and culling.\n",
      "Generating 10 children per parent pair (20 pairs).\n",
      "Generating 1 mutants per individual per mutation type (weighted by type).\n",
      "Evaluating fitness and culling.\n",
      "Generating 10 children per parent pair (20 pairs).\n",
      "Generating 1 mutants per individual per mutation type (weighted by type).\n",
      "Evaluating fitness and culling.\n",
      "Generating 10 children per parent pair (20 pairs).\n",
      "Generating 1 mutants per individual per mutation type (weighted by type).\n",
      "Evaluating fitness and culling.\n",
      "Generating 10 children per parent pair (20 pairs).\n",
      "Generating 1 mutants per individual per mutation type (weighted by type).\n",
      "Evaluating fitness and culling.\n",
      "Generating 10 children per parent pair (20 pairs).\n",
      "Generating 1 mutants per individual per mutation type (weighted by type).\n",
      "Evaluating fitness and culling.\n",
      "Generating 10 children per parent pair (20 pairs).\n",
      "Generating 1 mutants per individual per mutation type (weighted by type).\n",
      "Evaluating fitness and culling.\n",
      "Generating 10 children per parent pair (20 pairs).\n",
      "Generating 1 mutants per individual per mutation type (weighted by type).\n",
      "Evaluating fitness and culling.\n",
      "Generating 10 children per parent pair (20 pairs).\n",
      "Generating 1 mutants per individual per mutation type (weighted by type).\n",
      "Evaluating fitness and culling.\n",
      "Generating 10 children per parent pair (20 pairs).\n",
      "Generating 1 mutants per individual per mutation type (weighted by type).\n",
      "Evaluating fitness and culling.\n",
      "Generating 10 children per parent pair (20 pairs).\n",
      "Generating 1 mutants per individual per mutation type (weighted by type).\n",
      "Evaluating fitness and culling.\n",
      "Generating 10 children per parent pair (20 pairs).\n",
      "Generating 1 mutants per individual per mutation type (weighted by type).\n",
      "Evaluating fitness and culling.\n",
      "Generating 10 children per parent pair (20 pairs).\n",
      "Generating 1 mutants per individual per mutation type (weighted by type).\n",
      "Evaluating fitness and culling.\n",
      "Generating 10 children per parent pair (20 pairs).\n",
      "Generating 1 mutants per individual per mutation type (weighted by type).\n",
      "Evaluating fitness and culling.\n",
      "Generating 10 children per parent pair (20 pairs).\n",
      "Generating 1 mutants per individual per mutation type (weighted by type).\n",
      "Evaluating fitness and culling.\n",
      "Generating 10 children per parent pair (20 pairs).\n",
      "Generating 1 mutants per individual per mutation type (weighted by type).\n",
      "Evaluating fitness and culling.\n",
      "Generating 10 children per parent pair (20 pairs).\n",
      "Generating 1 mutants per individual per mutation type (weighted by type).\n",
      "Evaluating fitness and culling.\n",
      "Generating 10 children per parent pair (20 pairs).\n",
      "Generating 1 mutants per individual per mutation type (weighted by type).\n",
      "Evaluating fitness and culling.\n"
     ]
    }
   ],
   "source": [
    "p.run()"
   ]
  },
  {
   "cell_type": "code",
   "execution_count": 8,
   "id": "3d46bfce",
   "metadata": {},
   "outputs": [],
   "source": [
    "df = p.generate_dataframe(num_individuals=30)"
   ]
  },
  {
   "cell_type": "code",
   "execution_count": 13,
   "id": "fe23c2f5",
   "metadata": {},
   "outputs": [
    {
     "data": {
      "image/png": "[encoded data removed]",
      "text/plain": [
       "<Figure size 648x216 with 3 Axes>"
      ]
     },
     "metadata": {
      "needs_background": "light"
     },
     "output_type": "display_data"
    },
    {
     "data": {
      "text/plain": [
       "<Figure size 432x288 with 0 Axes>"
      ]
     },
     "metadata": {},
     "output_type": "display_data"
    }
   ],
   "source": [
    "g = sns.FacetGrid(data=df, col=\"P2\")\n",
    "plt.figure()\n",
    "g.map(sns.lineplot, \"F_in\", \"F_out\")\n",
    "plt.show()"
   ]
  },
  {
   "cell_type": "markdown",
   "id": "9ba7a849",
   "metadata": {},
   "source": [
    "### using different cost function"
   ]
  },
  {
   "cell_type": "code",
   "execution_count": 28,
   "id": "bbf82bd2",
   "metadata": {},
   "outputs": [
    {
     "data": {
      "text/plain": [
       "<Figure size 432x288 with 0 Axes>"
      ]
     },
     "metadata": {},
     "output_type": "display_data"
    },
    {
     "data": {
      "image/png": "[encoded data removed]",
      "text/plain": [
       "<Figure size 711.125x216 with 3 Axes>"
      ]
     },
     "metadata": {
      "needs_background": "light"
     },
     "output_type": "display_data"
    }
   ],
   "source": [
    "conf[\"WEIGHTS\"] = \"Pzero\"\n",
    "p = Population(**conf)\n",
    "p.run()\n",
    "\n",
    "df2 = p.generate_dataframe(num_individuals=30)\n",
    "df_combined = pd.concat([df, df2])\n",
    "\n",
    "plt.figure()\n",
    "g = sns.FacetGrid(data=df_combined, col=\"P2\", hue=\"Weights\")\n",
    "g.map(sns.lineplot, \"F_in\", \"P_zero\")\n",
    "g.add_legend()\n",
    "plt.show()"
   ]
  }
 ],
 "metadata": {
  "kernelspec": {
   "display_name": "Python 3 (ipykernel)",
   "language": "python",
   "name": "python3"
  },
  "language_info": {
   "codemirror_mode": {
    "name": "ipython",
    "version": 3
   },
   "file_extension": ".py",
   "mimetype": "text/x-python",
   "name": "python",
   "nbconvert_exporter": "python",
   "pygments_lexer": "ipython3",
   "version": "3.8.13"
  },
  "latex_envs": {
   "LaTeX_envs_menu_present": true,
   "autoclose": false,
   "autocomplete": true,
   "bibliofile": "biblio.bib",
   "cite_by": "apalike",
   "current_citInitial": 1,
   "eqLabelWithNumbers": true,
   "eqNumInitial": 1,
   "hotkeys": {
    "equation": "Ctrl-E",
    "itemize": "Ctrl-I"
   },
   "labels_anchors": false,
   "latex_user_defs": false,
   "report_style_numbering": false,
   "user_envs_cfg": false
  },
  "toc": {
   "base_numbering": 1,
   "nav_menu": {},
   "number_sections": true,
   "sideBar": true,
   "skip_h1_title": false,
   "title_cell": "Table of Contents",
   "title_sidebar": "Contents",
   "toc_cell": false,
   "toc_position": {},
   "toc_section_display": true,
   "toc_window_display": false
  }
 },
 "nbformat": 4,
 "nbformat_minor": 5
}
